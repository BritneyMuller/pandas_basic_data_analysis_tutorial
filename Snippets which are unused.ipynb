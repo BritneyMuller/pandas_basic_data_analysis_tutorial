{
 "cells": [
  {
   "cell_type": "markdown",
   "metadata": {},
   "source": [
    "# Profiling code"
   ]
  },
  {
   "cell_type": "code",
   "execution_count": null,
   "metadata": {
    "collapsed": true
   },
   "outputs": [],
   "source": [
    "# http://mortada.net/easily-profile-python-code-in-jupyter.html\n",
    "%load_ext line_profiler"
   ]
  },
  {
   "cell_type": "markdown",
   "metadata": {},
   "source": [
    "Run the function get_farthest, with inputs of trace and origin and profile why it takes so long.\n",
    "get_farthest(trace, origin)\n",
    "\n",
    "CRUCIAL NOTE: If you put strings into the function, directly i.e. get_farthest(\"sdjkfj\", \"sdfsd\"), then the profiler will fail. They need to be variables."
   ]
  },
  {
   "cell_type": "code",
   "execution_count": null,
   "metadata": {
    "collapsed": true
   },
   "outputs": [],
   "source": [
    "%lprun -f get_correct_result_type get_correct_result_type(trace, origin)"
   ]
  },
  {
   "cell_type": "code",
   "execution_count": null,
   "metadata": {
    "collapsed": true
   },
   "outputs": [],
   "source": [
    "# Turn off chained assignment - make sure you know what you're doing with this one.\n",
    "pd.set_option('mode.chained_assignment',None)"
   ]
  },
  {
   "cell_type": "markdown",
   "metadata": {},
   "source": [
    "saved headers and dtpyes in pandas"
   ]
  },
  {
   "cell_type": "code",
   "execution_count": 1,
   "metadata": {
    "collapsed": true
   },
   "outputs": [],
   "source": [
    "header_names = [\n",
    "    'Keyword',\n",
    "    'Market',\n",
    "    'Location',\n",
    "    'Device',\n",
    "    'Search Volume',\n",
    "    'Rank',\n",
    "    'Result Types',\n",
    "    'Protocol',\n",
    "    'Ranking URL',\n",
    "    'dropme1',\n",
    "    'dropme2',\n",
    "    'dropme3',\n",
    "    'Tags'\n",
    "]\n",
    "\n",
    "dtypes = {\n",
    "   'Keyword':'object',\n",
    "   'Market':'object',\n",
    "   'Location':'object',\n",
    "   'Device':'object',\n",
    "   'Regional Monthly Search Volume':'float64',\n",
    "   'Rank':'int64',\n",
    "   'Result Types for Period 1':'object',\n",
    "   'Protocol for Period 1':'object',\n",
    "   'Ranking URL for Period 1':'object',\n",
    "   'Result Types for Period 2':'object',\n",
    "   'Protocol for Period 2':'object',\n",
    "   'Ranking URL for Period 2':'object',\n",
    "   'Tags':'object',\n",
    "}"
   ]
  },
  {
   "cell_type": "markdown",
   "metadata": {},
   "source": [
    "**What does this do:** First we'll look at creating a column which is True or False based on a condition. We can use any of the conditions we used in the previous section. Below we're creating a column which is `True` for the all the rows where rank=1 and `False` otherwise.\n",
    "\n",
    "We're doing this by: setting the entire column to false, select any rows we want to be True and setting those to True. "
   ]
  },
  {
   "cell_type": "code",
   "execution_count": null,
   "metadata": {
    "collapsed": true
   },
   "outputs": [],
   "source": [
    "df['is_rank_1'] = False\n",
    "# The condition goes before the comma, the column we want to set comes after the comma.\n",
    "df.loc[df['Rank'] == 1, 'is_rank_1'] = True"
   ]
  },
  {
   "cell_type": "code",
   "execution_count": null,
   "metadata": {
    "collapsed": true
   },
   "outputs": [],
   "source": [
    "# To reset column index to single level from multi level, you just need to overwrite the columns.\n",
    "# You can either concatenate to do this (option 1), or just re-name as I have chosen to do.\n",
    "working_table.columns = [' '.join(col).strip() for col in working_table.columns.values]"
   ]
  }
 ],
 "metadata": {
  "kernelspec": {
   "display_name": "Python 3",
   "language": "python",
   "name": "python3"
  },
  "language_info": {
   "codemirror_mode": {
    "name": "ipython",
    "version": 3
   },
   "file_extension": ".py",
   "mimetype": "text/x-python",
   "name": "python",
   "nbconvert_exporter": "python",
   "pygments_lexer": "ipython3",
   "version": "3.6.0"
  }
 },
 "nbformat": 4,
 "nbformat_minor": 2
}
